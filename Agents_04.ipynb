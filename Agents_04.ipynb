{
  "nbformat": 4,
  "nbformat_minor": 0,
  "metadata": {
    "colab": {
      "provenance": [],
      "authorship_tag": "ABX9TyOzAP+RreR7vg3x2YOILlGp",
      "include_colab_link": true
    },
    "kernelspec": {
      "name": "python3",
      "display_name": "Python 3"
    },
    "language_info": {
      "name": "python"
    }
  },
  "cells": [
    {
      "cell_type": "markdown",
      "metadata": {
        "id": "view-in-github",
        "colab_type": "text"
      },
      "source": [
        "<a href=\"https://colab.research.google.com/github/XiaoHuang0803/ColabNotebooks/blob/main/Agents_04.ipynb\" target=\"_parent\"><img src=\"https://colab.research.google.com/assets/colab-badge.svg\" alt=\"Open In Colab\"/></a>"
      ]
    },
    {
      "cell_type": "code",
      "source": [
        "# !pip install pyautogen"
      ],
      "metadata": {
        "id": "9ioVuO_I-NXp"
      },
      "execution_count": 2,
      "outputs": []
    },
    {
      "cell_type": "code",
      "execution_count": 3,
      "metadata": {
        "id": "otRavfMB9TId"
      },
      "outputs": [],
      "source": [
        "from google.colab import userdata\n",
        "OPEN_AI_ACCESS_KEY = userdata.get('openAIAccessKey')"
      ]
    },
    {
      "cell_type": "code",
      "source": [
        "from autogen import config_list_from_json, ConversableAgent, UserProxyAgent, AssistantAgent"
      ],
      "metadata": {
        "id": "Etrw1F5Y9pYB"
      },
      "execution_count": 19,
      "outputs": []
    },
    {
      "cell_type": "code",
      "source": [
        "config_list = config_list_from_json(env_or_file=\"OAI_CONFIG_LIST\")"
      ],
      "metadata": {
        "id": "-rRZ6CsoJaJD"
      },
      "execution_count": 20,
      "outputs": []
    },
    {
      "cell_type": "code",
      "source": [
        "assistant = ConversableAgent(\"agent\", llm_config={\"config_list\": config_list})"
      ],
      "metadata": {
        "id": "KSUPjhxKJzyp"
      },
      "execution_count": 21,
      "outputs": []
    },
    {
      "cell_type": "code",
      "source": [
        "user_proxy = UserProxyAgent(\n",
        "    \"user\",\n",
        "    code_execution_config={\n",
        "        \"work_dir\": \"working\",\n",
        "        \"use_docker\": False,\n",
        "        \"last_n_messages\": 1,\n",
        "    },\n",
        "    human_input_mode = \"ALWAYS\",\n",
        "    is_termination_msg = lambda x: x.get(\"content\", \"\").rstrip().endswith(\"TERMINATE\")\n",
        ")\n"
      ],
      "metadata": {
        "id": "Df_PrqwjKRqu"
      },
      "execution_count": 22,
      "outputs": []
    },
    {
      "cell_type": "code",
      "source": [
        "engineer = AssistantAgent(\n",
        "    name=\"Engineer\",\n",
        "    llm_config={\"config_list\": config_list},\n",
        "    system_message=\"\"\"\n",
        "    You are a professional Python engineer, known for your expertise in software development.\n",
        "    You use your skills to create software applications, tools and games that are both functional and efficient.\n",
        "    You preference is to write clean, well-structured code that is easy to read and maintain\n",
        "    \"\"\" ,\n",
        ")"
      ],
      "metadata": {
        "id": "AbGosxJWM5_2"
      },
      "execution_count": 24,
      "outputs": []
    },
    {
      "cell_type": "code",
      "source": [
        "critic = AssistantAgent(\n",
        "    name=\"Reviewer\",\n",
        "    llm_config={\"config_list\": config_list},\n",
        "    system_message=\"\"\"\n",
        "    You are a code reviewer, known for your thoroughness and commitment to standards.\n",
        "    Your task is to scrutinize code content for any harmful or substandard elements.\n",
        "    You ensure that the code is secure, efficient, and adhere to best practices.\n",
        "    You will identify any issues or areas for improvement in the code and output them as a list.\n",
        "    \"\"\"\n",
        ")"
      ],
      "metadata": {
        "id": "MhsHffF2N4Xz"
      },
      "execution_count": 25,
      "outputs": []
    },
    {
      "cell_type": "code",
      "source": [
        "# user_proxy.initiate_chat(assistant, message=\"What should I do if someone in my team who does not perform as good as me got promoted first?\")"
      ],
      "metadata": {
        "id": "_MWYuN9-KVOK"
      },
      "execution_count": 26,
      "outputs": []
    },
    {
      "cell_type": "code",
      "source": [
        "def review_code(recipient, messages, sender, config):\n",
        "    return f\"\"\"\n",
        "    Review and critique the following code.\n",
        "\n",
        "    {recipient.chat_messages_for_summary(sender)[-1][\"content\"]}\n",
        "    \"\"\""
      ],
      "metadata": {
        "id": "9WFWNyh2LFwv"
      },
      "execution_count": 27,
      "outputs": []
    },
    {
      "cell_type": "code",
      "source": [
        "user_proxy.register_nested_chats(\n",
        "    [\n",
        "        {\n",
        "            \"recipient\": critic,\n",
        "            \"message\": review_code,\n",
        "            \"summary_method\": \"last_msg\",\n",
        "            \"max_turn\": 1\n",
        "        }\n",
        "    ],\n",
        "    trigger=engineer,\n",
        ")"
      ],
      "metadata": {
        "id": "5orXq8RZPytb"
      },
      "execution_count": 28,
      "outputs": []
    },
    {
      "cell_type": "code",
      "source": [
        "task = \"\"\"Write a snake game using Python.\"\"\"\n",
        "res = user_proxy.initiate_chat(\n",
        "    recipient=engineer,\n",
        "    message=task,\n",
        "    max_turns=2,\n",
        "    summary_method=\"last_msg\"\n",
        ")"
      ],
      "metadata": {
        "colab": {
          "base_uri": "https://localhost:8080/"
        },
        "id": "LHC-LiIuSd6G",
        "outputId": "fc64569c-844b-49d3-a560-51cd751dc2bc"
      },
      "execution_count": 29,
      "outputs": [
        {
          "output_type": "stream",
          "name": "stdout",
          "text": [
            "user (to Engineer):\n",
            "\n",
            "Write a snake game using Python.\n",
            "\n",
            "--------------------------------------------------------------------------------\n",
            "Engineer (to user):\n",
            "\n",
            "Sure, here's a quick and simple implementation of a console-based snake game in Python. For visual elements, I used the `curses` built-in module. \n",
            "\n",
            "```python\n",
            "import random\n",
            "import curses\n",
            "\n",
            "s = curses.initscr()\n",
            "curses.curs_set(0)\n",
            "sh, sw = s.getmaxyx()\n",
            "w = curses.newwin(sh, sw, 0, 0)\n",
            "w.keypad(1)\n",
            "w.timeout(100)\n",
            "\n",
            "snk_x = sw//4\n",
            "snk_y = sh//2\n",
            "snake = [\n",
            "    [snk_y, snk_x],\n",
            "    [snk_y, snk_x-1],\n",
            "    [snk_y, snk_x-2]\n",
            "]\n",
            "\n",
            "food = [sh//2, sw//2]\n",
            "w.addch(int(food[0]), int(food[1]), curses.ACS_PI)\n",
            "\n",
            "key = curses.KEY_RIGHT\n",
            "\n",
            "while True:\n",
            "    next_key = w.getch()\n",
            "    key = key if next_key == -1 else next_key\n",
            "\n",
            "    if snake[0][0] in [0, sh] or \\\n",
            "        snake[0][1]  in [0, sw] or \\\n",
            "        snake[0] in snake[1:]:\n",
            "        curses.endwin()\n",
            "        quit()\n",
            "\n",
            "    new_head = [snake[0][0], snake[0][1]]\n",
            "\n",
            "    if key == curses.KEY_DOWN:\n",
            "        new_head[0] += 1\n",
            "    if key == curses.KEY_UP:\n",
            "        new_head[0] -= 1\n",
            "    if key == curses.KEY_LEFT:\n",
            "        new_head[1] -= 1\n",
            "    if key == curses.KEY_RIGHT:\n",
            "        new_head[1] += 1\n",
            "\n",
            "    snake.insert(0, new_head)\n",
            "\n",
            "    if snake[0] == food:\n",
            "        food = None\n",
            "        while food is None:\n",
            "            nf = [\n",
            "                random.randint(1, sh-1),\n",
            "                random.randint(1, sw-1)\n",
            "            ]\n",
            "            food = nf if nf not in snake else None\n",
            "        w.addch(food[0], food[1], curses.ACS_PI)\n",
            "    else:\n",
            "        tail = snake.pop()\n",
            "        w.addch(int(tail[0]), int(tail[1]), ' ')\n",
            "\n",
            "    w.addch(int(snake[0][0]), int(snake[0][1]), curses.ACS_CKBOARD)\n",
            "```\n",
            "\n",
            "To play the game, use arrow keys. Make sure your console is large enough or it may error due to the screen size checks. Your \"snake\" is a line of characters that moves around the screen, eating \"food\" (π characters), and growing longer. If it runs into the screen border or into itself, the game will end.\n",
            "\n",
            "--------------------------------------------------------------------------------\n",
            "Replying as user. Provide feedback to Engineer. Press enter to skip and use auto-reply, or type 'exit' to end the conversation: exit\n",
            "\n",
            ">>>>>>>> TERMINATING RUN (76f02909-1fa8-4986-afe0-c3bf9faba32a): User requested to end the conversation\n"
          ]
        }
      ]
    },
    {
      "cell_type": "code",
      "source": [],
      "metadata": {
        "id": "C20I4dFYSsQt"
      },
      "execution_count": null,
      "outputs": []
    }
  ]
}