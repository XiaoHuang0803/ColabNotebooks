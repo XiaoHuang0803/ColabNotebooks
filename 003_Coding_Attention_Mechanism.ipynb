{
  "nbformat": 4,
  "nbformat_minor": 0,
  "metadata": {
    "colab": {
      "provenance": [],
      "authorship_tag": "ABX9TyP5/zpLNyjjQcS/jFxpOmSV",
      "include_colab_link": true
    },
    "kernelspec": {
      "name": "python3",
      "display_name": "Python 3"
    },
    "language_info": {
      "name": "python"
    }
  },
  "cells": [
    {
      "cell_type": "markdown",
      "metadata": {
        "id": "view-in-github",
        "colab_type": "text"
      },
      "source": [
        "<a href=\"https://colab.research.google.com/github/XiaoHuang0803/ColabNotebooks/blob/main/003_Coding_Attention_Mechanism.ipynb\" target=\"_parent\"><img src=\"https://colab.research.google.com/assets/colab-badge.svg\" alt=\"Open In Colab\"/></a>"
      ]
    },
    {
      "cell_type": "code",
      "execution_count": 1,
      "metadata": {
        "id": "VP0BY8SvHDPL"
      },
      "outputs": [],
      "source": [
        "import torch"
      ]
    },
    {
      "cell_type": "code",
      "source": [
        "inputs = torch.tensor(\n",
        "    [[0.43, 0.15, 0.89], # Your.     x^1\n",
        "     [0.55, 0.87, 0.66], # hourney.  x^2\n",
        "     [0.57, 0.85, 0.64], # starts.   x^3\n",
        "     [0.22, 0.58, 0.33], # with.     x^4\n",
        "     [0.77, 0.25, 0.10], # one.      x^5\n",
        "     [0.05, 0.80, 0.55]  # step.     x^6\n",
        "    ]\n",
        ")"
      ],
      "metadata": {
        "id": "nZPb-dNYHJ15"
      },
      "execution_count": 2,
      "outputs": []
    },
    {
      "cell_type": "code",
      "source": [],
      "metadata": {
        "id": "M9Ry8E9qH7yH"
      },
      "execution_count": null,
      "outputs": []
    }
  ]
}