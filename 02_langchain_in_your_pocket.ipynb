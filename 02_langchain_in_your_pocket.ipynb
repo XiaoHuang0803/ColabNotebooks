{
  "nbformat": 4,
  "nbformat_minor": 0,
  "metadata": {
    "colab": {
      "provenance": [],
      "authorship_tag": "ABX9TyPh55djX6FIEqlb8JbI/880",
      "include_colab_link": true
    },
    "kernelspec": {
      "name": "python3",
      "display_name": "Python 3"
    },
    "language_info": {
      "name": "python"
    }
  },
  "cells": [
    {
      "cell_type": "markdown",
      "metadata": {
        "id": "view-in-github",
        "colab_type": "text"
      },
      "source": [
        "<a href=\"https://colab.research.google.com/github/XiaoHuang0803/ColabNotebooks/blob/main/02_langchain_in_your_pocket.ipynb\" target=\"_parent\"><img src=\"https://colab.research.google.com/assets/colab-badge.svg\" alt=\"Open In Colab\"/></a>"
      ]
    },
    {
      "cell_type": "markdown",
      "source": [
        "Install langchain and OpenAI"
      ],
      "metadata": {
        "id": "fDJ56iku0CqJ"
      }
    },
    {
      "cell_type": "code",
      "source": [
        "# !pip install langchain==0.0.343 openai==1.3.6"
      ],
      "metadata": {
        "id": "KoHhMXzSe2an"
      },
      "execution_count": 2,
      "outputs": []
    },
    {
      "cell_type": "markdown",
      "source": [
        "Get OpenAI API key stored previously as google colab environment variable"
      ],
      "metadata": {
        "id": "rDesklr80GuS"
      }
    },
    {
      "cell_type": "code",
      "source": [
        "from google.colab import userdata\n",
        "openai_api_key = userdata.get('openAIAccessKey')"
      ],
      "metadata": {
        "id": "uFP99N1uibaM"
      },
      "execution_count": 4,
      "outputs": []
    },
    {
      "cell_type": "markdown",
      "source": [
        "### Chapter 4: Models and Prompts"
      ],
      "metadata": {
        "id": "aVLX9ZIb0hf1"
      }
    },
    {
      "cell_type": "markdown",
      "source": [
        "`langchain.llms` API"
      ],
      "metadata": {
        "id": "xysOVZkJ0P5R"
      }
    },
    {
      "cell_type": "code",
      "source": [
        "from langchain.llms import OpenAI\n",
        "llm = OpenAI(model_name=\"gpt-3.5-turbo-instruct\", temperature=1, openai_api_key=openai_api_key)"
      ],
      "metadata": {
        "id": "CsOQ5Lvtyjsh"
      },
      "execution_count": 11,
      "outputs": []
    },
    {
      "cell_type": "code",
      "source": [
        "llm.invoke(\"Tell me about Donald Trump\")"
      ],
      "metadata": {
        "colab": {
          "base_uri": "https://localhost:8080/",
          "height": 110
        },
        "id": "E1PwtVHVyjZg",
        "outputId": "3567f827-5085-4c5f-f7dc-1d3f9f54d0ee"
      },
      "execution_count": 13,
      "outputs": [
        {
          "output_type": "execute_result",
          "data": {
            "text/plain": [
              "'\\n\\nDonald Trump is a prominent American business magnate, television personality and former politician. He was born on June 14, 1946 in New York City, New York. He graduated from the Wharton School of the University of Pennsylvania in 1968 with a degree in economics.\\n\\nTrump began his career in the real estate business, working with his father\\'s company, Elizabeth Trump & Son. He eventually took over the company and renamed it The Trump Organization. He expanded the company\\'s holdings to include real estate, construction, and entertainment ventures. Throughout his career, Trump has been known for his lavish and extravagant lifestyle, as well as his flamboyant personality.\\n\\nIn 2004, Trump became the host of the popular reality TV show \"The Apprentice,\" in which contestants compete for a chance to work for him. The show became a huge success and helped solidify Trump\\'s status as a household name.\\n\\nIn 2016, Trump ran for President of the United States as the Republican nominee. His campaign was controversial and often divisive, with his speeches and policies attracting both support and criticism. He ultimately won the election against Democratic nominee Hillary Clinton, becoming the 45th President of the United States.\\n\\nDuring his presidency, Trump implemented several policies focusing on immigration, trade,'"
            ],
            "application/vnd.google.colaboratory.intrinsic+json": {
              "type": "string"
            }
          },
          "metadata": {},
          "execution_count": 13
        }
      ]
    },
    {
      "cell_type": "markdown",
      "source": [
        "`langchain.chat_models` API"
      ],
      "metadata": {
        "id": "35feqKWO1VJk"
      }
    },
    {
      "cell_type": "code",
      "source": [
        "from langchain.schema.messages import HumanMessage, SystemMessage\n",
        "from langchain.chat_models import ChatOpenAI"
      ],
      "metadata": {
        "id": "RQ0JJKHEzIoU"
      },
      "execution_count": 15,
      "outputs": []
    },
    {
      "cell_type": "code",
      "source": [
        "messages = [\n",
        "    SystemMessage(content=\"You're a helpful assistant\"),\n",
        "    HumanMessage(content=\"What should we do to stop pollution?\")\n",
        "]"
      ],
      "metadata": {
        "id": "xhnXtvb7z_L2"
      },
      "execution_count": 17,
      "outputs": []
    },
    {
      "cell_type": "code",
      "source": [
        "llm = ChatOpenAI(openai_api_key=openai_api_key)\n",
        "llm.invoke(messages)"
      ],
      "metadata": {
        "colab": {
          "base_uri": "https://localhost:8080/"
        },
        "id": "zBBrCNrV1Cho",
        "outputId": "dbd4006e-03fa-4e93-fa8d-9d463b10b85b"
      },
      "execution_count": 20,
      "outputs": [
        {
          "output_type": "execute_result",
          "data": {
            "text/plain": [
              "AIMessage(content='There are several actions that can be taken to help stop pollution:\\n\\n1. Reduce, Reuse, Recycle: Decrease the amount of waste produced by using reusable items and recycling materials whenever possible.\\n\\n2. Use Clean Energy Sources: Transition to renewable energy sources such as solar, wind, and hydroelectric power to reduce reliance on fossil fuels.\\n\\n3. Conserve Water: Use water efficiently and reduce water waste to prevent water pollution.\\n\\n4. Support Sustainable Agriculture: Choose organic and locally sourced food to reduce the use of pesticides and chemicals that can pollute the environment.\\n\\n5. Reduce Vehicle Emissions: Use public transportation, carpool, bike, or walk to reduce emissions from vehicles.\\n\\n6. Properly Dispose of Hazardous Waste: Dispose of hazardous materials such as batteries, electronics, and chemicals at designated recycling centers.\\n\\n7. Advocate for Policy Change: Support legislation that promotes environmental protection and holds polluters accountable.\\n\\nBy taking these actions, individuals can help reduce pollution and protect the environment for future generations.')"
            ]
          },
          "metadata": {},
          "execution_count": 20
        }
      ]
    },
    {
      "cell_type": "markdown",
      "source": [
        "`langchain.prompts.PromptTemplate`"
      ],
      "metadata": {
        "id": "gJl1J_a95iD3"
      }
    },
    {
      "cell_type": "code",
      "source": [
        "from langchain.prompts import PromptTemplate\n",
        "from langchain.llms import OpenAI\n",
        "from langchain.chains import LLMChain"
      ],
      "metadata": {
        "id": "T-e3KivT1NVy"
      },
      "execution_count": 22,
      "outputs": []
    },
    {
      "cell_type": "code",
      "source": [
        "prompt = PromptTemplate.from_template(\" Suggest {number} names for a {domain} startup?\")\n",
        "llm = OpenAI(openai_api_key=openai_api_key, model_name=\"gpt-3.5-turbo-instruct\")\n",
        "chain = LLMChain(llm=llm, prompt=prompt)"
      ],
      "metadata": {
        "id": "stclvor554hs"
      },
      "execution_count": 23,
      "outputs": []
    },
    {
      "cell_type": "code",
      "source": [
        "print(chain.run({\"number\": 3, \"domain\": \"cooking\"}))"
      ],
      "metadata": {
        "colab": {
          "base_uri": "https://localhost:8080/"
        },
        "id": "6ZOXy_LH6GD3",
        "outputId": "c59bce5c-07cf-410c-baf3-577db916b91d"
      },
      "execution_count": 24,
      "outputs": [
        {
          "output_type": "stream",
          "name": "stdout",
          "text": [
            "\n",
            "\n",
            "1. \"Sizzle & Spice\"\n",
            "2. \"The Kitchen Collective\"\n",
            "3. \"Culinary Creation Co.\"\n"
          ]
        }
      ]
    },
    {
      "cell_type": "code",
      "source": [
        "print(chain.run({\"number\": 5, \"domain\": \"cloud computing\"}))"
      ],
      "metadata": {
        "colab": {
          "base_uri": "https://localhost:8080/"
        },
        "id": "Br5YXElI6OK3",
        "outputId": "5ac71876-54b9-494d-e601-1fd75bd322a2"
      },
      "execution_count": 25,
      "outputs": [
        {
          "output_type": "stream",
          "name": "stdout",
          "text": [
            "\n",
            "\n",
            "1. Nimbus Cloud Co.\n",
            "2. Stratus Solutions\n",
            "3. Cumulonimbus Technologies\n",
            "4. Cloudscape Innovations\n",
            "5. Cirrus Computing Co.\n"
          ]
        }
      ]
    },
    {
      "cell_type": "markdown",
      "source": [
        "`langchain.prompts.chat`"
      ],
      "metadata": {
        "id": "jTWCZUur69Ur"
      }
    },
    {
      "cell_type": "code",
      "source": [
        "from langchain.prompts.chat import (\n",
        "    ChatPromptTemplate,\n",
        "    SystemMessagePromptTemplate,\n",
        "    AIMessagePromptTemplate,\n",
        "    HumanMessagePromptTemplate\n",
        ")"
      ],
      "metadata": {
        "id": "yapsOtne6RkA"
      },
      "execution_count": 26,
      "outputs": []
    },
    {
      "cell_type": "code",
      "source": [
        "template = \"You are a helpful assistant who can give {category} for given input\"\n",
        "system_message_prompt = SystemMessagePromptTemplate.from_template(template)\n",
        "human_template = \"{text}\"\n",
        "\n",
        "human_message_prompt = HumanMessagePromptTemplate.from_template(human_template)\n",
        "chat_prompt = ChatPromptTemplate.from_messages([system_message_prompt, human_message_prompt])\n",
        "\n",
        "chat = ChatOpenAI(openai_api_key=openai_api_key, temperature=0)\n",
        "chat(chat_prompt.format_prompt(category=\"antonums\", text=\"Rude\").to_messages())"
      ],
      "metadata": {
        "colab": {
          "base_uri": "https://localhost:8080/"
        },
        "id": "ccb6Bnvd7VSj",
        "outputId": "c006f1ea-1723-4568-cb0e-d83e17c6f4bc"
      },
      "execution_count": 27,
      "outputs": [
        {
          "output_type": "execute_result",
          "data": {
            "text/plain": [
              "AIMessage(content='Polite')"
            ]
          },
          "metadata": {},
          "execution_count": 27
        }
      ]
    },
    {
      "cell_type": "code",
      "source": [],
      "metadata": {
        "id": "b8F7I_Td8SY1"
      },
      "execution_count": null,
      "outputs": []
    }
  ]
}