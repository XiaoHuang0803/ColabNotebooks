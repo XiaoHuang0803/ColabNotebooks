{
  "nbformat": 4,
  "nbformat_minor": 0,
  "metadata": {
    "colab": {
      "provenance": [],
      "authorship_tag": "ABX9TyP2hAvmETmqOaEyvfQF04pN",
      "include_colab_link": true
    },
    "kernelspec": {
      "name": "python3",
      "display_name": "Python 3"
    },
    "language_info": {
      "name": "python"
    }
  },
  "cells": [
    {
      "cell_type": "markdown",
      "metadata": {
        "id": "view-in-github",
        "colab_type": "text"
      },
      "source": [
        "<a href=\"https://colab.research.google.com/github/XiaoHuang0803/ColabNotebooks/blob/main/LC03_PDF_and_FAISS.ipynb\" target=\"_parent\"><img src=\"https://colab.research.google.com/assets/colab-badge.svg\" alt=\"Open In Colab\"/></a>"
      ]
    },
    {
      "cell_type": "code",
      "execution_count": null,
      "metadata": {
        "id": "5Zkvqd-iFoIN"
      },
      "outputs": [],
      "source": [
        "# !pip install pypdf\n",
        "# !pip install faiss-cpu\n",
        "# !pip install langchain_community\n",
        "# !pip install langchain_openai\n",
        "# !pip install langchain_pinecone"
      ]
    },
    {
      "cell_type": "code",
      "source": [
        "import os\n",
        "from google.colab import userdata\n",
        "os.environ[\"OPENAI_API_KEY\"] = userdata.get(\"openAIAccessKey\")"
      ],
      "metadata": {
        "id": "Wu1QCBBQGGXE"
      },
      "execution_count": null,
      "outputs": []
    },
    {
      "cell_type": "code",
      "source": [
        "from langchain_community.document_loaders import PyPDFLoader\n",
        "pdf_path = \"./ReActPaper.pdf\"\n",
        "loader = PyPDFLoader(pdf_path)\n",
        "documents = loader.load()"
      ],
      "metadata": {
        "id": "0oLVdP3CG0yf"
      },
      "execution_count": null,
      "outputs": []
    },
    {
      "cell_type": "code",
      "source": [
        "from langchain.text_splitter import CharacterTextSplitter\n",
        "text_splitter = CharacterTextSplitter(chunk_size=1000, chunk_overlap=30, separator=\"\\n\")\n",
        "docs = text_splitter.split_documents(documents)"
      ],
      "metadata": {
        "id": "IXHIlpHKHtVw"
      },
      "execution_count": null,
      "outputs": []
    },
    {
      "cell_type": "code",
      "source": [
        "from langchain_openai import OpenAIEmbeddings, OpenAI\n",
        "embeddings = OpenAIEmbeddings()"
      ],
      "metadata": {
        "id": "QCeMgNiUIPCG"
      },
      "execution_count": null,
      "outputs": []
    },
    {
      "cell_type": "code",
      "source": [
        "# FAISS\n",
        "from langchain.vectorstores import FAISS\n",
        "vectorstore = FAISS.from_documents(docs, embeddings)\n",
        "vectorstore.save_local(\"faiss_index_react\")"
      ],
      "metadata": {
        "id": "nDu6HtIsIbrH"
      },
      "execution_count": null,
      "outputs": []
    },
    {
      "cell_type": "code",
      "source": [
        "new_vectorstore = FAISS.load_local(\"faiss_index_react\", embeddings, allow_dangerous_deserialization=True)"
      ],
      "metadata": {
        "id": "i-NuARm8JWh_"
      },
      "execution_count": null,
      "outputs": []
    },
    {
      "cell_type": "code",
      "source": [
        "from langchain import hub\n",
        "from langchain.chains.combine_documents import create_stuff_documents_chain\n",
        "from langchain.chains.retrieval import create_retrieval_chain\n",
        "retrieval_qa_chat_prompt = hub.pull(\"langchain-ai/retrieval-qa-chat\")\n",
        "combine_docs_chain = create_stuff_documents_chain(OpenAI(), retrieval_qa_chat_prompt)\n",
        "retrieval_chain = create_retrieval_chain(new_vectorstore.as_retriever(), combine_docs_chain)"
      ],
      "metadata": {
        "id": "t2Ll116wJo97",
        "colab": {
          "base_uri": "https://localhost:8080/"
        },
        "outputId": "019824d2-356e-41d3-945d-df6e2fef80f1"
      },
      "execution_count": 32,
      "outputs": [
        {
          "output_type": "stream",
          "name": "stderr",
          "text": [
            "/usr/local/lib/python3.11/dist-packages/langsmith/client.py:256: LangSmithMissingAPIKeyWarning: API key must be provided when using hosted LangSmith API\n",
            "  warnings.warn(\n"
          ]
        }
      ]
    },
    {
      "cell_type": "code",
      "source": [
        "res = retrieval_chain.invoke({\"input\": \"Give me the gist of ReAct in 3 sentences\"})\n",
        "print(res[\"answer\"])"
      ],
      "metadata": {
        "colab": {
          "base_uri": "https://localhost:8080/"
        },
        "id": "MmVQzv5iKxpL",
        "outputId": "e331cf7a-3761-46f5-8a09-268ce2764d05"
      },
      "execution_count": 34,
      "outputs": [
        {
          "output_type": "stream",
          "name": "stdout",
          "text": [
            "\n",
            "\n",
            "1. ReAct is a new paradigm that combines reasoning and acting in language models for solving various tasks.\n",
            "2. It uses simple prompts written in natural language to guide the model's decision making process.\n",
            "3. ReAct outperforms previous approaches and provides improved interpretability, trustworthiness, and performance on a diverse set of benchmarks.\n"
          ]
        }
      ]
    },
    {
      "cell_type": "code",
      "source": [],
      "metadata": {
        "id": "RO5MzdG1HbwQ"
      },
      "execution_count": null,
      "outputs": []
    }
  ]
}