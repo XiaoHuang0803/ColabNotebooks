{
  "nbformat": 4,
  "nbformat_minor": 0,
  "metadata": {
    "colab": {
      "provenance": [],
      "authorship_tag": "ABX9TyPBZhoYj0J5Cy5ZM/N2PHv6",
      "include_colab_link": true
    },
    "kernelspec": {
      "name": "python3",
      "display_name": "Python 3"
    },
    "language_info": {
      "name": "python"
    }
  },
  "cells": [
    {
      "cell_type": "markdown",
      "metadata": {
        "id": "view-in-github",
        "colab_type": "text"
      },
      "source": [
        "<a href=\"https://colab.research.google.com/github/XiaoHuang0803/ColabNotebooks/blob/main/001_study_hugging_face.ipynb\" target=\"_parent\"><img src=\"https://colab.research.google.com/assets/colab-badge.svg\" alt=\"Open In Colab\"/></a>"
      ]
    },
    {
      "cell_type": "code",
      "source": [
        "# !pip install datasets\n",
        "# !pip install git+https://github.com/huggingface/diffusers\n",
        "# !pip install accelerate\n",
        "# !pip install ftfy"
      ],
      "metadata": {
        "id": "nbS7S4u_INtD"
      },
      "execution_count": 15,
      "outputs": []
    },
    {
      "cell_type": "markdown",
      "source": [
        "Create your custom Tokenizer"
      ],
      "metadata": {
        "id": "TDgGM58jKehY"
      }
    },
    {
      "cell_type": "code",
      "source": [
        "from tokenizers import Tokenizer, models, pre_tokenizers, trainers\n",
        "with open(\"./tokenizer_train.txt\", \"r\") as file:\n",
        "    dataset = [line.strip() for line in file.readlines()]\n",
        "tokenizer = Tokenizer(models.BPE())\n",
        "tokenizer.pre_tokenizer = pre_tokenizers.Whitespace()\n",
        "trainer = trainers.BpeTrainer(special_tokens=[\"[UNK]\", \"[CLS]\", \"[SEP]\", \"[PAD]\", \"[MASK]\"])\n",
        "tokenizer.train_from_iterator(dataset, trainer=trainer)\n",
        "tokenizer.save(\"tokenizer.json\")"
      ],
      "metadata": {
        "id": "R044YaYbJr88"
      },
      "execution_count": 30,
      "outputs": []
    },
    {
      "cell_type": "markdown",
      "source": [
        "Inference"
      ],
      "metadata": {
        "id": "G3BovKzgONO3"
      }
    },
    {
      "cell_type": "code",
      "source": [
        "from transformers import PreTrainedTokenizerFast\n",
        "fast_tokenizer = PreTrainedTokenizerFast(tokenizer_file=\"./tokenizer.json\")\n",
        "text = \"The Tokenizers\"\n",
        "encoded = tokenizer.encode(text)\n",
        "print(encoded.tokens)\n",
        "\n",
        "from tokenizers.tools import EncodingVisualizer\n",
        "visualizer = EncodingVisualizer(fast_tokenizer._tokenizer)\n",
        "visualizer(text=\"The Tokenizers\")"
      ],
      "metadata": {
        "colab": {
          "base_uri": "https://localhost:8080/",
          "height": 183
        },
        "id": "MpynNh4TM2O_",
        "outputId": "5556a0d6-b498-4731-a80b-c2889059722e"
      },
      "execution_count": 35,
      "outputs": [
        {
          "output_type": "stream",
          "name": "stdout",
          "text": [
            "['T', 'h', 'e', 'T', 'o', 'ken', 'iz', 'ers']\n"
          ]
        },
        {
          "output_type": "display_data",
          "data": {
            "text/plain": [
              "<IPython.core.display.HTML object>"
            ],
            "text/html": [
              "\n",
              "    <html>\n",
              "        <head>\n",
              "            <style>\n",
              "                .tokenized-text {\n",
              "    width:100%;\n",
              "    padding:2rem;\n",
              "    max-height: 400px;\n",
              "    overflow-y: auto;\n",
              "    box-sizing:border-box;\n",
              "    line-height:4rem; /* Lots of space between lines */\n",
              "    font-family: \"Roboto Light\", \"Ubuntu Light\", \"Ubuntu\", monospace;\n",
              "    box-shadow: 2px 2px 2px rgba(0,0,0,0.2);\n",
              "    background-color: rgba(0,0,0,0.01);\n",
              "    letter-spacing:2px; /* Give some extra separation between chars */\n",
              "}\n",
              ".non-token{\n",
              "    /* White space and other things the tokenizer ignores*/\n",
              "    white-space: pre;\n",
              "    letter-spacing:4px;\n",
              "    border-top:1px solid #A0A0A0; /* A gentle border on top and bottom makes tabs more ovious*/\n",
              "    border-bottom:1px solid #A0A0A0;\n",
              "    line-height: 1rem;\n",
              "    height: calc(100% - 2px);\n",
              "}\n",
              "\n",
              ".token {\n",
              "    white-space: pre;\n",
              "    position:relative;\n",
              "    color:black;\n",
              "    letter-spacing:2px;\n",
              "}\n",
              "\n",
              ".annotation{\n",
              "    white-space:nowrap; /* Important - ensures that annotations appears even if the annotated text wraps a line */\n",
              "    border-radius:4px;\n",
              "    position:relative;\n",
              "    width:fit-content;\n",
              "}\n",
              ".annotation:before {\n",
              "    /*The before holds the text and the after holds the background*/\n",
              "    z-index:1000; /* Make sure this is above the background */\n",
              "    content:attr(data-label); /* The annotations label is on a data attribute */\n",
              "    color:white;\n",
              "    position:absolute;\n",
              "    font-size:1rem;\n",
              "    text-align:center;\n",
              "    font-weight:bold;\n",
              "\n",
              "    top:1.75rem;\n",
              "    line-height:0;\n",
              "    left:0;\n",
              "    width:100%;\n",
              "    padding:0.5rem 0;\n",
              "    /* These make it so an annotation doesn't stretch beyond the annotated text if the label is longer*/\n",
              "    overflow: hidden;\n",
              "    white-space: nowrap;\n",
              "    text-overflow:ellipsis;\n",
              "}\n",
              "\n",
              ".annotation:after {\n",
              "    content:attr(data-label); /* The content defines the width of the annotation*/\n",
              "    position:absolute;\n",
              "    font-size:0.75rem;\n",
              "    text-align:center;\n",
              "    font-weight:bold;\n",
              "    text-overflow:ellipsis;\n",
              "    top:1.75rem;\n",
              "    line-height:0;\n",
              "    overflow: hidden;\n",
              "    white-space: nowrap;\n",
              "\n",
              "    left:0;\n",
              "    width:100%; /* 100% of the parent, which is the annotation whose width is the tokens inside it*/\n",
              "\n",
              "    padding:0.5rem 0;\n",
              "    /* Nast hack below:\n",
              "    We set the annotations color in code because we don't know the colors at css time.\n",
              "    But you can't pass a color as a data attribute to get it into the pseudo element (this thing)\n",
              "    So to get around that, annotations have the color set on them with a style attribute and then we\n",
              "    can get the color with currentColor.\n",
              "    Annotations wrap tokens and tokens set the color back to black\n",
              "     */\n",
              "    background-color: currentColor;\n",
              "}\n",
              ".annotation:hover::after, .annotation:hover::before{\n",
              "    /* When the user hovers over an annotation expand the label to display in full\n",
              "     */\n",
              "    min-width: fit-content;\n",
              "}\n",
              "\n",
              ".annotation:hover{\n",
              "    /* Emphasize the annotation start end with a border on hover*/\n",
              "    border-color: currentColor;\n",
              "    border: 2px solid;\n",
              "}\n",
              ".special-token:not(:empty){\n",
              "    /*\n",
              "    A none empty special token is like UNK (as opposed to CLS which has no representation in the text )\n",
              "     */\n",
              "    position:relative;\n",
              "}\n",
              ".special-token:empty::before{\n",
              "    /* Special tokens that don't have text are displayed as pseudo elements so we dont select them with the mouse*/\n",
              "    content:attr(data-stok);\n",
              "    background:#202020;\n",
              "    font-size:0.75rem;\n",
              "    color:white;\n",
              "    margin: 0 0.25rem;\n",
              "    padding: 0.25rem;\n",
              "    border-radius:4px\n",
              "}\n",
              "\n",
              ".special-token:not(:empty):before {\n",
              "    /* Special tokens that have text (UNK) are displayed above the actual text*/\n",
              "    content:attr(data-stok);\n",
              "    position:absolute;\n",
              "    bottom:1.75rem;\n",
              "    min-width:100%;\n",
              "    width:100%;\n",
              "    height:1rem;\n",
              "    line-height:1rem;\n",
              "    font-size:1rem;\n",
              "    text-align:center;\n",
              "    color:white;\n",
              "    font-weight:bold;\n",
              "    background:#202020;\n",
              "    border-radius:10%;\n",
              "}\n",
              "/*\n",
              "We want to alternate the color of tokens, but we can't use nth child because tokens might be broken up by annotations\n",
              "instead we apply even and odd class at generation time and color them that way\n",
              " */\n",
              ".even-token{\n",
              "    background:#DCDCDC\t;\n",
              "    border: 1px solid #DCDCDC;\n",
              "}\n",
              ".odd-token{\n",
              "    background:#A0A0A0;\n",
              "    border: 1px solid #A0A0A0;\n",
              "}\n",
              ".even-token.multi-token,.odd-token.multi-token{\n",
              "    background:  repeating-linear-gradient(\n",
              "    45deg,\n",
              "    transparent,\n",
              "    transparent 1px,\n",
              "    #ccc 1px,\n",
              "    #ccc 1px\n",
              "    ),\n",
              "    /* on \"bottom\" */\n",
              "    linear-gradient(\n",
              "    to bottom,\n",
              "    #FFB6C1,\n",
              "    #999\n",
              "    );\n",
              "}\n",
              "\n",
              ".multi-token:hover::after {\n",
              "    content:\"This char has more than 1 token\"; /* The content defines the width of the annotation*/\n",
              "    color:white;\n",
              "    background-color: black;\n",
              "    position:absolute;\n",
              "    font-size:0.75rem;\n",
              "    text-align:center;\n",
              "    font-weight:bold;\n",
              "    text-overflow:ellipsis;\n",
              "    top:1.75rem;\n",
              "    line-height:0;\n",
              "    overflow: hidden;\n",
              "    white-space: nowrap;\n",
              "    left:0;\n",
              "    width:fit-content; /* 100% of the parent, which is the annotation whose width is the tokens inside it*/\n",
              "    padding:0.5rem 0;\n",
              "}\n",
              "\n",
              "            </style>\n",
              "        </head>\n",
              "        <body>\n",
              "            <div class=\"tokenized-text\" dir=auto>\n",
              "            <span class=\"token even-token\"  >T</span><span class=\"token odd-token\"  >h</span><span class=\"token even-token\"  >e</span><span class=\"non-token\"  > </span><span class=\"token odd-token\"  >T</span><span class=\"token even-token\"  >o</span><span class=\"token odd-token\"  >ken</span><span class=\"token even-token\"  >iz</span><span class=\"token odd-token\"  >ers</span>\n",
              "            </div>\n",
              "        </body>\n",
              "    </html>\n",
              "    "
            ]
          },
          "metadata": {}
        }
      ]
    },
    {
      "cell_type": "code",
      "source": [],
      "metadata": {
        "id": "xCzlkAUoPTwh"
      },
      "execution_count": null,
      "outputs": []
    }
  ]
}